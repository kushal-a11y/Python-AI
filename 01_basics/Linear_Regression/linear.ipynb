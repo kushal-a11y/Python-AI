{
 "cells": [
  {
   "cell_type": "code",
   "execution_count": 13,
   "metadata": {},
   "outputs": [],
   "source": [
    "import pandas as pd\n",
    "import numpy as np\n",
    "import sklearn\n",
    "from sklearn import linear_model\n",
    "from sklearn.utils import shuffle"
   ]
  },
  {
   "cell_type": "code",
   "execution_count": 14,
   "metadata": {},
   "outputs": [],
   "source": [
    "data = pd.read_csv(\"student-mat.csv\",sep=\";\")\n",
    "# print(data.columns)\n",
    "data = data[[\"G1\", \"G2\", \"G3\", \"studytime\", \"failures\", \"absences\"]]"
   ]
  },
  {
   "cell_type": "code",
   "execution_count": 20,
   "metadata": {},
   "outputs": [],
   "source": [
    "predict = \"G3\"\n",
    "\n",
    "# Training data data frame without predict(G3)\n",
    "x = np.array(data.drop([predict], axis=1))\n",
    "\n",
    "#data to predict\n",
    "y = np.array(data[predict])"
   ]
  },
  {
   "cell_type": "code",
   "execution_count": 21,
   "metadata": {},
   "outputs": [],
   "source": [
    "x_train,x_test, y_train, y_test = sklearn.model_selection.train_test_split(x,y, test_size = 0.1)"
   ]
  },
  {
   "cell_type": "code",
   "execution_count": 24,
   "metadata": {},
   "outputs": [],
   "source": [
    "linear = linear_model.LinearRegression()\n",
    "linear.fit(x_train,y_train)\n",
    "accuracy = linear.score(x_test,y_test)"
   ]
  },
  {
   "cell_type": "code",
   "execution_count": 28,
   "metadata": {},
   "outputs": [
    {
     "name": "stdout",
     "output_type": "stream",
     "text": [
      "Accuracy is 0.8419104696154739\n",
      "Coefficient [ 0.12812876  0.99499055 -0.14568749 -0.28276286  0.04222953]\n",
      " Intercept: -1.4919634712007497\n"
     ]
    }
   ],
   "source": [
    "print(f\"Accuracy is {accuracy}\")\n",
    "print(f\"Coefficient {linear.coef_}\\n Intercept: {linear.intercept_}\")"
   ]
  },
  {
   "cell_type": "code",
   "execution_count": 30,
   "metadata": {},
   "outputs": [],
   "source": [
    "predictions = linear.predict(x_test)"
   ]
  },
  {
   "cell_type": "code",
   "execution_count": 32,
   "metadata": {},
   "outputs": [
    {
     "name": "stdout",
     "output_type": "stream",
     "text": [
      "8.365524652899449 [8 9 2 0 4] 10\n",
      "3.5405486122117757 [6 5 1 2 0] 0\n",
      "10.926368861030303 [10 11  1  0  8] 10\n",
      "13.526165496482665 [15 14  3  2  4] 15\n",
      "19.8268642720033 [18 19  1  0  6] 19\n",
      "14.824752370509165 [12 15  1  0  0] 15\n",
      "12.694755658733214 [13 13  4  0  4] 12\n",
      "8.025856268796478 [10  8  1  0 10] 9\n",
      "13.963562458837936 [14 14  3  0  4] 14\n",
      "18.176551561156813 [16 18  2  0  0] 18\n",
      "6.46000260814035 [8 7 2 0 6] 9\n",
      "7.140387562775061 [8 8 3 0 2] 10\n",
      "13.812203090745829 [13 14  2  0  0] 15\n",
      "8.47609468078153 [10  9  3  0  4] 9\n",
      "7.539452205805437 [8 8 2 0 8] 6\n",
      "11.620078454998545 [10  9  2  0 75] 9\n",
      "7.880168776337177 [10  8  2  0 10] 8\n",
      "9.360515200374177 [ 8 10  2  0  4] 10\n",
      "14.935322398391248 [14 15  2  0  0] 15\n",
      "10.041948341437658 [12 10  2  0  8] 11\n",
      "9.61677272071556 [10 10  2  0  4] 10\n",
      "14.152919661277569 [15 14  2  0  2] 14\n",
      "15.276038968922988 [16 15  2  0  2] 15\n",
      "-1.023512503728194 [7 0 1 1 0] 0\n",
      "15.276038968922988 [16 15  2  0  2] 15\n",
      "7.500071700051771 [5 9 2 2 6] 7\n",
      "10.617435143823093 [11 11  4  0  8] 10\n",
      "17.496166606522102 [16 17  1  0  4] 18\n",
      "11.932792023678454 [15 12  3  0  0] 14\n",
      "12.68908378310041 [12 13  2  0  0] 13\n",
      "5.9893250940963805 [ 7  6  1  0 18] 6\n",
      "7.77710280742944 [7 9 4 0 0] 0\n",
      "9.302167127875542 [10 10  3  0  0] 9\n",
      "8.875159323811905 [10  9  2  0 10] 10\n",
      "3.6310739012648154 [3 5 2 1 8] 5\n",
      "11.323990954402035 [10 12  2  1  4] 12\n",
      "11.71165196791429 [11 12  1  0  0] 10\n",
      "9.488643960544868 [ 9 10  2  0  4] 10\n",
      "6.301047952392599 [ 6  7  2  1 15] 8\n",
      "13.280297134432917 [12 13  2  0 14] 12\n"
     ]
    }
   ],
   "source": [
    "for x in range(len(predictions)):\n",
    "    print(predictions[x], x_test[x], y_test[x])"
   ]
  }
 ],
 "metadata": {
  "kernelspec": {
   "display_name": "myenv",
   "language": "python",
   "name": "python3"
  },
  "language_info": {
   "codemirror_mode": {
    "name": "ipython",
    "version": 3
   },
   "file_extension": ".py",
   "mimetype": "text/x-python",
   "name": "python",
   "nbconvert_exporter": "python",
   "pygments_lexer": "ipython3",
   "version": "3.12.1"
  }
 },
 "nbformat": 4,
 "nbformat_minor": 2
}
