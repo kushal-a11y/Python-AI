{
 "cells": [
  {
   "cell_type": "code",
   "execution_count": 25,
   "metadata": {},
   "outputs": [],
   "source": [
    "import pandas as pd\n",
    "import numpy as np\n",
    "import sklearn\n",
    "from sklearn import linear_model\n",
    "from sklearn.utils import shuffle\n",
    "import matplotlib.pyplot as plt\n",
    "import pickle\n",
    "import math\n",
    "from matplotlib import style"
   ]
  },
  {
   "cell_type": "code",
   "execution_count": 26,
   "metadata": {},
   "outputs": [],
   "source": [
    "data = pd.read_csv(\"student-mat.csv\",sep=\";\")\n",
    "# print(data.columns)\n",
    "data = data[[\"G1\", \"G2\", \"G3\", \"studytime\", \"failures\", \"absences\"]]"
   ]
  },
  {
   "cell_type": "code",
   "execution_count": 27,
   "metadata": {},
   "outputs": [],
   "source": [
    "predict = \"G3\"\n",
    "\n",
    "# Training data data frame without predict(G3)\n",
    "x = np.array(data.drop([predict], axis=1))\n",
    "\n",
    "#data to predict\n",
    "y = np.array(data[predict])"
   ]
  },
  {
   "cell_type": "code",
   "execution_count": 28,
   "metadata": {},
   "outputs": [],
   "source": [
    "x_train,x_test, y_train, y_test = sklearn.model_selection.train_test_split(x,y, test_size = 0.1)"
   ]
  },
  {
   "cell_type": "code",
   "execution_count": 29,
   "metadata": {},
   "outputs": [],
   "source": [
    "best = 0\n",
    "for __ in range(500):\n",
    "\n",
    "# x_train a postion of x(training data ) & y_train is a portion of y data(predicted data) and x & test\n",
    "# is determined by test_size which is 10% of the training data\n",
    "    x_train, x_test, y_train, y_test = sklearn.model_selection.train_test_split(x,y, test_size = 0.1)\n",
    "\n",
    "#Building the linear regression model, fitting datat into in that model and measure score against data\n",
    "    linear = linear_model.LinearRegression()\n",
    "    linear.fit(x_train,y_train)\n",
    "    accuracy = linear.score(x_test,y_test)\n",
    "\n",
    "    if accuracy > best:\n",
    "        best = accuracy\n",
    "        with open(\"studentModel.pickle\",\"wb\") as f:\n",
    "            pickle.dump(linear, f)"
   ]
  },
  {
   "cell_type": "code",
   "execution_count": 30,
   "metadata": {},
   "outputs": [],
   "source": [
    "# print(f\"Accuracy is {accuracy}\")\n",
    "\n",
    "# with open(\"studentModel.pickle\",\"wb\") as f:\n",
    "#     pickle.dump(linear,f)\n",
    "'''\n",
    "saving model with high accuracy in pickle file and loading that \n",
    "instead of retraining the model\n",
    "'''\n",
    "pickle_in = open(\"studentModel.pickle\", \"rb\")\n",
    "linear = pickle.load(pickle_in)"
   ]
  },
  {
   "cell_type": "code",
   "execution_count": 31,
   "metadata": {},
   "outputs": [],
   "source": [
    "predictions = linear.predict(x_test)"
   ]
  },
  {
   "cell_type": "code",
   "execution_count": 32,
   "metadata": {},
   "outputs": [
    {
     "name": "stdout",
     "output_type": "stream",
     "text": [
      "My prediction : -1 || Test data: [7 0 2 0 0] || Actual result: 0\n",
      "My prediction : 11 || Test data: [12 12  2  0  6] || Actual result: 12\n",
      "My prediction : 8 || Test data: [ 6 10  2  0  4] || Actual result: 10\n",
      "My prediction : 11 || Test data: [11 12  2  0 10] || Actual result: 13\n",
      "My prediction : 13 || Test data: [13 13  2  0 14] || Actual result: 14\n",
      "My prediction : 8 || Test data: [10  9  3  0  4] || Actual result: 9\n",
      "My prediction : 15 || Test data: [16 15  3  0  9] || Actual result: 16\n",
      "My prediction : 3 || Test data: [6 5 1 2 0] || Actual result: 0\n",
      "My prediction : 11 || Test data: [14 12  2  1  0] || Actual result: 12\n",
      "My prediction : 15 || Test data: [14 16  3  0  0] || Actual result: 16\n",
      "My prediction : 9 || Test data: [10 10  4  0  0] || Actual result: 10\n",
      "My prediction : 9 || Test data: [11 10  3  0  4] || Actual result: 11\n",
      "My prediction : 7 || Test data: [10  8  1  0  6] || Actual result: 11\n",
      "My prediction : 9 || Test data: [ 9 10  2  0  4] || Actual result: 10\n",
      "My prediction : 14 || Test data: [14 15  2  0  0] || Actual result: 15\n",
      "My prediction : 12 || Test data: [12 13  1  1  6] || Actual result: 14\n",
      "My prediction : 5 || Test data: [7 7 2 3 5] || Actual result: 7\n",
      "My prediction : 11 || Test data: [11 12  2  0 12] || Actual result: 11\n",
      "My prediction : 5 || Test data: [ 6  6  2  1 13] || Actual result: 8\n",
      "My prediction : -1 || Test data: [6 0 2 0 0] || Actual result: 0\n",
      "My prediction : 9 || Test data: [11  9  2  0 12] || Actual result: 9\n",
      "My prediction : 9 || Test data: [10 10  2  0  2] || Actual result: 11\n",
      "My prediction : 3 || Test data: [ 6  5  1  3 16] || Actual result: 5\n",
      "My prediction : 8 || Test data: [10  9  4  0  0] || Actual result: 0\n",
      "My prediction : 6 || Test data: [7 8 4 0 8] || Actual result: 8\n",
      "My prediction : 12 || Test data: [13 13  2  0  2] || Actual result: 13\n",
      "My prediction : 11 || Test data: [10 12  2  1  4] || Actual result: 12\n",
      "My prediction : 11 || Test data: [13 12  3  0  6] || Actual result: 12\n",
      "My prediction : 12 || Test data: [13 13  2  0  2] || Actual result: 13\n",
      "My prediction : 14 || Test data: [13 15  4  0  0] || Actual result: 15\n",
      "My prediction : 14 || Test data: [15 14  2  0  2] || Actual result: 14\n",
      "My prediction : 10 || Test data: [11 11  2  0  2] || Actual result: 11\n",
      "My prediction : 10 || Test data: [12 10  2  0 14] || Actual result: 11\n",
      "My prediction : 13 || Test data: [13 13  2  0 23] || Actual result: 13\n",
      "My prediction : 13 || Test data: [11 14  1  0  6] || Actual result: 14\n",
      "My prediction : 8 || Test data: [8 9 2 0 8] || Actual result: 10\n",
      "My prediction : 10 || Test data: [13 11  3  0  8] || Actual result: 11\n",
      "My prediction : 12 || Test data: [12 12  1  0  8] || Actual result: 12\n",
      "My prediction : 12 || Test data: [12 13  2  0  0] || Actual result: 13\n",
      "My prediction : 13 || Test data: [15 14  3  0  2] || Actual result: 15\n"
     ]
    }
   ],
   "source": [
    "for i in range(len(predictions)):\n",
    "    print(f\"My prediction : {math.floor(predictions[i])} || Test data: {x_test[i]} || Actual result: {y_test[i]}\")"
   ]
  },
  {
   "cell_type": "code",
   "execution_count": 42,
   "metadata": {},
   "outputs": [
    {
     "ename": "TypeError",
     "evalue": "'str' object is not callable",
     "output_type": "error",
     "traceback": [
      "\u001b[0;31m---------------------------------------------------------------------------\u001b[0m",
      "\u001b[0;31mTypeError\u001b[0m                                 Traceback (most recent call last)",
      "Cell \u001b[0;32mIn[42], line 5\u001b[0m\n\u001b[1;32m      3\u001b[0m style\u001b[38;5;241m.\u001b[39muse(\u001b[38;5;124m\"\u001b[39m\u001b[38;5;124mggplot\u001b[39m\u001b[38;5;124m\"\u001b[39m)\n\u001b[1;32m      4\u001b[0m plt\u001b[38;5;241m.\u001b[39mscatter(data[p],data[\u001b[38;5;124m\"\u001b[39m\u001b[38;5;124mG3\u001b[39m\u001b[38;5;124m\"\u001b[39m])\n\u001b[0;32m----> 5\u001b[0m \u001b[43mplt\u001b[49m\u001b[38;5;241;43m.\u001b[39;49m\u001b[43mxlabel\u001b[49m\u001b[43m(\u001b[49m\u001b[43mp\u001b[49m\u001b[43m)\u001b[49m\n\u001b[1;32m      6\u001b[0m plt\u001b[38;5;241m.\u001b[39mylabel(\u001b[38;5;124m\"\u001b[39m\u001b[38;5;124mFinal Grade\u001b[39m\u001b[38;5;124m\"\u001b[39m)\n\u001b[1;32m      7\u001b[0m plt\u001b[38;5;241m.\u001b[39mshow()\n",
      "\u001b[0;31mTypeError\u001b[0m: 'str' object is not callable"
     ]
    },
    {
     "data": {
      "image/png": "[encoded data removed]",
      "text/plain": [
       "<Figure size 640x480 with 1 Axes>"
      ]
     },
     "metadata": {},
     "output_type": "display_data"
    }
   ],
   "source": [
    "%matplotlib inline\n",
    "p = \"G1\"\n",
    "style.use(\"ggplot\")\n",
    "plt.scatter(data[p],data[\"G3\"])\n",
    "plt.xlabel(p)\n",
    "plt.ylabel(\"Final Grade\")\n",
    "plt.show()"
   ]
  }
 ],
 "metadata": {
  "kernelspec": {
   "display_name": "myenv",
   "language": "python",
   "name": "python3"
  },
  "language_info": {
   "codemirror_mode": {
    "name": "ipython",
    "version": 3
   },
   "file_extension": ".py",
   "mimetype": "text/x-python",
   "name": "python",
   "nbconvert_exporter": "python",
   "pygments_lexer": "ipython3",
   "version": "3.12.1"
  }
 },
 "nbformat": 4,
 "nbformat_minor": 2
}
