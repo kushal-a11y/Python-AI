{
 "cells": [
  {
   "cell_type": "code",
   "execution_count": 1,
   "metadata": {},
   "outputs": [],
   "source": [
    "import pandas as pd\n",
    "import numpy as np\n",
    "import sklearn\n",
    "from sklearn import linear_model\n",
    "from sklearn.utils import shuffle\n",
    "import matplotlib.pyplot as plt\n",
    "import pickle\n",
    "import math\n",
    "from matplotlib import style"
   ]
  },
  {
   "cell_type": "code",
   "execution_count": 2,
   "metadata": {},
   "outputs": [],
   "source": [
    "data = pd.read_csv(\"student-mat.csv\",sep=\";\")\n",
    "# print(data.columns)\n",
    "data = data[[\"G1\", \"G2\", \"G3\", \"studytime\", \"failures\", \"absences\"]]"
   ]
  },
  {
   "cell_type": "code",
   "execution_count": 3,
   "metadata": {},
   "outputs": [],
   "source": [
    "predict = \"G3\"\n",
    "\n",
    "# Training data data frame without predict(G3)\n",
    "x = np.array(data.drop([predict], axis=1))\n",
    "\n",
    "#data to predict\n",
    "y = np.array(data[predict])"
   ]
  },
  {
   "cell_type": "code",
   "execution_count": 4,
   "metadata": {},
   "outputs": [],
   "source": [
    "x_train,x_test, y_train, y_test = sklearn.model_selection.train_test_split(x,y, test_size = 0.1)"
   ]
  },
  {
   "cell_type": "code",
   "execution_count": 5,
   "metadata": {},
   "outputs": [],
   "source": [
    "best = 0\n",
    "for __ in range(500):\n",
    "\n",
    "# x_train a postion of x(training data ) & y_train is a portion of y data(predicted data) and x & test\n",
    "# is determined by test_size which is 10% of the training data\n",
    "    x_train, x_test, y_train, y_test = sklearn.model_selection.train_test_split(x,y, test_size = 0.1)\n",
    "\n",
    "#Building the linear regression model, fitting datat into in that model and measure score against data\n",
    "    linear = linear_model.LinearRegression()\n",
    "    linear.fit(x_train,y_train)\n",
    "    accuracy = linear.score(x_test,y_test)\n",
    "\n",
    "    if accuracy > best:\n",
    "        best = accuracy\n",
    "        with open(\"studentModel.pickle\",\"wb\") as f:\n",
    "            pickle.dump(linear, f)"
   ]
  },
  {
   "cell_type": "code",
   "execution_count": 6,
   "metadata": {},
   "outputs": [],
   "source": [
    "# print(f\"Accuracy is {accuracy}\")\n",
    "\n",
    "# with open(\"studentModel.pickle\",\"wb\") as f:\n",
    "#     pickle.dump(linear,f)\n",
    "'''\n",
    "saving model with high accuracy in pickle file and loading that \n",
    "instead of retraining the model\n",
    "'''\n",
    "pickle_in = open(\"studentModel.pickle\", \"rb\")\n",
    "linear = pickle.load(pickle_in)"
   ]
  },
  {
   "cell_type": "code",
   "execution_count": 7,
   "metadata": {},
   "outputs": [],
   "source": [
    "predictions = linear.predict(x_test)"
   ]
  },
  {
   "cell_type": "code",
   "execution_count": 8,
   "metadata": {},
   "outputs": [
    {
     "name": "stdout",
     "output_type": "stream",
     "text": [
      "My prediction : 4 || Test data: [7 6 1 1 0] || Actual result: 0\n",
      "My prediction : 17 || Test data: [16 17  2  0  0] || Actual result: 17\n",
      "My prediction : 10 || Test data: [ 8 11  2  0  0] || Actual result: 11\n",
      "My prediction : 11 || Test data: [12 12  1  0  2] || Actual result: 14\n",
      "My prediction : 15 || Test data: [15 15  2  0 10] || Actual result: 15\n",
      "My prediction : 12 || Test data: [12 12  2  0 13] || Actual result: 13\n",
      "My prediction : -1 || Test data: [8 0 1 0 0] || Actual result: 0\n",
      "My prediction : 7 || Test data: [9 8 2 1 0] || Actual result: 0\n",
      "My prediction : 11 || Test data: [ 8 12  1  0  0] || Actual result: 12\n",
      "My prediction : 11 || Test data: [11 12  2  0 10] || Actual result: 13\n",
      "My prediction : 12 || Test data: [14 12  2  0 20] || Actual result: 13\n",
      "My prediction : 16 || Test data: [15 16  2  0  2] || Actual result: 16\n",
      "My prediction : -2 || Test data: [6 0 2 0 0] || Actual result: 0\n",
      "My prediction : 6 || Test data: [7 7 1 0 3] || Actual result: 8\n",
      "My prediction : 7 || Test data: [8 9 1 3 0] || Actual result: 10\n",
      "My prediction : 8 || Test data: [10  9  2  0  4] || Actual result: 11\n",
      "My prediction : 10 || Test data: [ 9  9  2  0 56] || Actual result: 8\n",
      "My prediction : 19 || Test data: [18 18  1  0  8] || Actual result: 18\n",
      "My prediction : 7 || Test data: [8 8 2 0 0] || Actual result: 0\n",
      "My prediction : 8 || Test data: [ 6  9  1  2 14] || Actual result: 8\n",
      "My prediction : 17 || Test data: [16 17  3  0  0] || Actual result: 17\n",
      "My prediction : 5 || Test data: [ 7  6  1  0 18] || Actual result: 6\n",
      "My prediction : 12 || Test data: [13 13  3  0  0] || Actual result: 14\n",
      "My prediction : 9 || Test data: [10 10  2  1  0] || Actual result: 0\n",
      "My prediction : 12 || Test data: [13 12  1  0  0] || Actual result: 12\n",
      "My prediction : 10 || Test data: [11 11  2  0  2] || Actual result: 10\n",
      "My prediction : 11 || Test data: [13 11  3  1 40] || Actual result: 11\n",
      "My prediction : 11 || Test data: [12 11  2  0 11] || Actual result: 11\n",
      "My prediction : 7 || Test data: [ 9  8  2  1 15] || Actual result: 8\n",
      "My prediction : 11 || Test data: [14 12  4  0  6] || Actual result: 13\n",
      "My prediction : 18 || Test data: [18 18  3  0  5] || Actual result: 19\n",
      "My prediction : 12 || Test data: [13 12  1  0 20] || Actual result: 12\n",
      "My prediction : 7 || Test data: [ 9  8  2  0 10] || Actual result: 8\n",
      "My prediction : 11 || Test data: [12 12  2  0  2] || Actual result: 11\n",
      "My prediction : 13 || Test data: [14 13  3  0  8] || Actual result: 14\n",
      "My prediction : 18 || Test data: [16 18  2  0  0] || Actual result: 19\n",
      "My prediction : 15 || Test data: [16 15  3  0 16] || Actual result: 15\n",
      "My prediction : 12 || Test data: [11 13  4  0  6] || Actual result: 14\n",
      "My prediction : 14 || Test data: [13 14  1  0  0] || Actual result: 14\n",
      "My prediction : 9 || Test data: [ 9 10  3  0  4] || Actual result: 10\n"
     ]
    }
   ],
   "source": [
    "for i in range(len(predictions)):\n",
    "    print(f\"My prediction : {math.floor(predictions[i])} || Test data: {x_test[i]} || Actual result: {y_test[i]}\")"
   ]
  },
  {
   "cell_type": "code",
   "execution_count": 12,
   "metadata": {},
   "outputs": [
    {
     "data": {
      "image/png": "[encoded data removed]",
      "text/plain": [
       "<Figure size 640x480 with 1 Axes>"
      ]
     },
     "metadata": {},
     "output_type": "display_data"
    }
   ],
   "source": [
    "%matplotlib inline\n",
    "p = \"studytime\"\n",
    "style.use(\"ggplot\")\n",
    "plt.scatter(data[\"studytime\"],data[\"G3\"])\n",
    "plt.xlabel(p)\n",
    "plt.ylabel(\"Final Grade\")\n",
    "plt.show()"
   ]
  }
 ],
 "metadata": {
  "kernelspec": {
   "display_name": "myenv",
   "language": "python",
   "name": "python3"
  },
  "language_info": {
   "codemirror_mode": {
    "name": "ipython",
    "version": 3
   },
   "file_extension": ".py",
   "mimetype": "text/x-python",
   "name": "python",
   "nbconvert_exporter": "python",
   "pygments_lexer": "ipython3",
   "version": "3.12.1"
  }
 },
 "nbformat": 4,
 "nbformat_minor": 2
}
